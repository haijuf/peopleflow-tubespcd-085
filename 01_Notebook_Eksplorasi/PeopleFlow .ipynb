{
  "nbformat": 4,
  "nbformat_minor": 0,
  "metadata": {
    "colab": {
      "provenance": []
    },
    "kernelspec": {
      "name": "python3",
      "display_name": "Python 3"
    },
    "language_info": {
      "name": "python"
    }
  },
  "cells": [
    {
      "cell_type": "markdown",
      "source": [
        "Aplikasi **People Flow** adalah sistem visi komputer yang mendeteksi orang melintasi garis vertikal imajiner untuk menghitung masuk (ke kanan) dan keluar (ke kiri), memantau kapasitas ruangan, dan menghasilkan laporan per menit dalam format CSV. Notebook ini bertujuan untuk:\n",
        "- Mengeksplorasi MediaPipe Pose sebagai model deteksi, termasuk variasi parameter.\n",
        "- Menyajikan kode model akhir berdasarkan kelas `PeopleCounter`.\n",
        "- Mengevaluasi keberhasilan model (akurasi, FPS, stabilitas).\n",
        "- Memberikan kode lengkap dengan penjelasan."
      ],
      "metadata": {
        "id": "qUlC7LVtjYkD"
      }
    },
    {
      "cell_type": "code",
      "source": [
        "# Instal dependensi\n",
        "!pip install opencv-python==4.10.0.84 mediapipe==0.10.14 numpy==1.26.4 scipy==1.14.1"
      ],
      "metadata": {
        "id": "FJNXNPzpjbLt"
      },
      "execution_count": null,
      "outputs": []
    },
    {
      "cell_type": "code",
      "source": [
        "!pip uninstall bokeh panel holoviews -y\n",
        "#Dibutuhkan jika Import Error"
      ],
      "metadata": {
        "id": "DhuGbPatj6zN"
      },
      "execution_count": null,
      "outputs": []
    },
    {
      "cell_type": "code",
      "source": [
        "# Impor pustaka\n",
        "import cv2\n",
        "import mediapipe as mp\n",
        "import numpy as np\n",
        "from scipy.spatial import distance\n",
        "import matplotlib.pyplot as plt"
      ],
      "metadata": {
        "id": "fzoM5Ak0poNp"
      },
      "execution_count": null,
      "outputs": []
    },
    {
      "cell_type": "code",
      "source": [
        "# Unduh video sample untuk pengujian\n",
        "!wget https://github.com/haijuf/video-sample.git -O sample_video.mp4"
      ],
      "metadata": {
        "id": "lJv0_qpFpsNz"
      },
      "execution_count": null,
      "outputs": []
    },
    {
      "cell_type": "code",
      "source": [],
      "metadata": {
        "id": "WQtIG6ntt6sx"
      },
      "execution_count": null,
      "outputs": []
    },
    {
      "cell_type": "markdown",
      "source": [
        "Arsitektur: MediaPipe Pose menggunakan model BlazePose untuk mendeteksi 33 landmark tubuh secara real-time. Kami mengeksplorasi parameter seperti min_detection_confidence untuk mengoptimalkan akurasi dan stabilitas.\n",
        "\n",
        "Kelebihan:\n",
        "\n",
        "\n",
        "\n",
        "\n",
        "\n",
        "Ringan, cepat (~30 FPS di CPU).\n",
        "\n",
        "\n",
        "\n",
        "API Python sederhana, terintegrasi dengan OpenCV.\n",
        "\n",
        "\n",
        "\n",
        "Akurat untuk deteksi satu orang.\n",
        "\n",
        "Kekurangan:\n",
        "\n",
        "\n",
        "\n",
        "\n",
        "\n",
        "Hanya mendeteksi satu pose per frame di Python (v0.10.14).\n",
        "\n",
        "\n",
        "\n",
        "Sensitif terhadap pencahayaan rendah dan occlusion."
      ],
      "metadata": {
        "id": "qcdxCuxVuHoX"
      }
    },
    {
      "cell_type": "code",
      "source": [
        "class PeopleCounterExperiment:\n",
        "    def __init__(self, detection_confidence=0.5, tracking_confidence=0.5, max_capacity=None):\n",
        "        self.mp_pose = mp.solutions.pose\n",
        "        self.pose = self.mp_pose.Pose(\n",
        "            min_detection_confidence=detection_confidence,\n",
        "            min_tracking_confidence=tracking_confidence,\n",
        "            model_complexity=1\n",
        "        )\n",
        "        self.count_in = 0\n",
        "        self.count_out = 0\n",
        "        self.max_capacity = max_capacity\n",
        "        self.tracked_people = {}\n",
        "        self.next_id = 1\n",
        "        self.line_x = 400\n",
        "\n",
        "    def get_centroid(self, landmarks, frame_shape):\n",
        "        h, w, _ = frame_shape\n",
        "        shoulder = landmarks.landmark[self.mp_pose.PoseLandmark.LEFT_SHOULDER]\n",
        "        hip = landmarks.landmark[self.mp_pose.PoseLandmark.LEFT_HIP]\n",
        "        cx = int((shoulder.x + hip.x) / 2 * w)\n",
        "        cy = int((shoulder.y + hip.y) / 2 * h)\n",
        "        return cx, cy\n",
        "\n",
        "    def process_frame(self, frame):\n",
        "        frame_rgb = cv2.cvtColor(frame, cv2.COLOR_BGR2RGB)\n",
        "        results = self.pose.process(frame_rgb)\n",
        "        status = \"Normal\"\n",
        "        is_full = False\n",
        "        current_people = {}\n",
        "\n",
        "        if results.pose_landmarks:\n",
        "            cx, cy = self.get_centroid(results.pose_landmarks, frame.shape)\n",
        "            person_id = None\n",
        "            for pid, (px, py) in self.tracked_people.items():\n",
        "                if distance.euclidean((cx, cy), (px, py)) < 100:\n",
        "                    person_id = pid\n",
        "                    break\n",
        "            if person_id is None:\n",
        "                person_id = self.next_id\n",
        "                self.next_id += 1\n",
        "            current_people[person_id] = (cx, cy)\n",
        "\n",
        "            prev_pos = self.tracked_people.get(person_id, (cx, cy))\n",
        "            prev_x = prev_pos[0]\n",
        "            current_count = self.count_in - self.count_out\n",
        "            if prev_x <= self.line_x and cx > self.line_x:\n",
        "                if self.max_capacity is None or current_count < self.max_capacity:\n",
        "                    self.count_in += 1\n",
        "            elif prev_x >= self.line_x and cx < self.line_x:\n",
        "                self.count_out += 1\n",
        "\n",
        "            cv2.circle(frame, (cx, cy), 5, (0, 255, 0), -1)\n",
        "            cv2.putText(frame, f\"ID: {person_id}\", (cx, cy - 10),\n",
        "                       cv2.FONT_HERSHEY_SIMPLEX, 0.5, (0, 255, 0), 2)\n",
        "\n",
        "        self.tracked_people = current_people\n",
        "        cv2.line(frame, (self.line_x, 0), (self.line_x, frame.shape[0]), (255, 0, 0), 2)\n",
        "\n",
        "        current_count = self.count_in - self.count_out\n",
        "        if self.max_capacity:\n",
        "            if current_count >= self.max_capacity:\n",
        "                is_full = True\n",
        "                status = \"Ruangan Penuh\"\n",
        "                cv2.putText(frame, \"Ruangan Penuh!\", (50, 50),\n",
        "                           cv2.FONT_HERSHEY_SIMPLEX, 1, (0, 0, 255), 3)\n",
        "            elif current_count == 0:\n",
        "                status = \"Ruangan Kosong\"\n",
        "            else:\n",
        "                status = f\"Sisa Kapasitas: {self.max_capacity - current_count}\"\n",
        "        else:\n",
        "            if current_count == 0:\n",
        "                status = \"Ruangan Kosong\"\n",
        "            else:\n",
        "                status = f\"Total Orang: {current_count}\"\n",
        "\n",
        "        return frame, self.count_in, self.count_out, status, is_full\n",
        "\n",
        "# Uji parameter berbeda\n",
        "configs = [\n",
        "    {\"detection_confidence\": 0.5, \"tracking_confidence\": 0.5, \"name\": \"Default\"},\n",
        "    {\"detection_confidence\": 0.7, \"tracking_confidence\": 0.7, \"name\": \"Tinggi\"},\n",
        "    {\"detection_confidence\": 0.3, \"tracking_confidence\": 0.3, \"name\": \"Rendah\"}\n",
        "]\n",
        "\n",
        "for config in configs:\n",
        "    print(f\"\\nMenguji konfigurasi: {config['name']}\")\n",
        "    cap = cv2.VideoCapture('sample_video.mp4')\n",
        "    counter = PeopleCounterExperiment(\n",
        "        detection_confidence=config[\"detection_confidence\"],\n",
        "        tracking_confidence=config[\"tracking_confidence\"],\n",
        "        max_capacity=5\n",
        "    )\n",
        "    frame_count = 0\n",
        "    while cap.isOpened() and frame_count < 100:  # Batasi 100 frame\n",
        "        ret, frame = cap.read()\n",
        "        if not ret:\n",
        "            break\n",
        "        frame, count_in, count_out, status, is_full = counter.process_frame(frame)\n",
        "        frame_count += 1\n",
        "    print(f\"Hasil {config['name']}: Masuk={counter.count_in}, Keluar={counter.count_out}\")\n",
        "    cap.release()"
      ],
      "metadata": {
        "colab": {
          "base_uri": "https://localhost:8080/"
        },
        "id": "ObAh7i4xuJ65",
        "outputId": "826a629e-fd93-48dc-db6d-512a381bb491"
      },
      "execution_count": null,
      "outputs": [
        {
          "output_type": "stream",
          "name": "stdout",
          "text": [
            "\n",
            "Menguji konfigurasi: Default\n",
            "Hasil Default: Masuk=0, Keluar=0\n",
            "\n",
            "Menguji konfigurasi: Tinggi\n",
            "Hasil Tinggi: Masuk=0, Keluar=0\n",
            "\n",
            "Menguji konfigurasi: Rendah\n",
            "Hasil Rendah: Masuk=0, Keluar=0\n"
          ]
        }
      ]
    },
    {
      "cell_type": "code",
      "source": [
        "class PeopleCounter:\n",
        "    def __init__(self, max_capacity=None):\n",
        "        self.mp_pose = mp.solutions.pose\n",
        "        self.pose = self.mp_pose.Pose(\n",
        "            min_detection_confidence=0.7,\n",
        "            min_tracking_confidence=0.7,\n",
        "            model_complexity=1\n",
        "        )\n",
        "        self.count_in = 0\n",
        "        self.count_out = 0\n",
        "        self.max_capacity = max_capacity\n",
        "        self.tracked_people = {}  # Format: {id: (centroid_x, centroid_y)}\n",
        "        self.next_id = 1\n",
        "        self.line_x = 400  # Garis imajiner vertikal\n",
        "\n",
        "    def get_centroid(self, landmarks, frame_shape):\n",
        "        \"\"\"Menghitung centroid dari landmark untuk satu orang.\"\"\"\n",
        "        h, w, _ = frame_shape\n",
        "        # Ambil koordinat bahu kiri dan pinggul kiri\n",
        "        shoulder = landmarks.landmark[self.mp_pose.PoseLandmark.LEFT_SHOULDER]\n",
        "        hip = landmarks.landmark[self.mp_pose.PoseLandmark.LEFT_HIP]\n",
        "        cx = int((shoulder.x + hip.x) / 2 * w)\n",
        "        cy = int((shoulder.y + hip.y) / 2 * h)\n",
        "        return cx, cy\n",
        "\n",
        "    def process_frame(self, frame):\n",
        "        frame_rgb = cv2.cvtColor(frame, cv2.COLOR_BGR2RGB)\n",
        "        results = self.pose.process(frame_rgb)\n",
        "        status = \"Normal\"\n",
        "        is_full = False\n",
        "        current_people = {}\n",
        "\n",
        "        if results.pose_landmarks:\n",
        "            cx, cy = self.get_centroid(results.pose_landmarks, frame.shape)\n",
        "            person_id = None\n",
        "            for pid, (px, py) in self.tracked_people.items():\n",
        "                if distance.euclidean((cx, cy), (px, py)) < 100:\n",
        "                    person_id = pid\n",
        "                    break\n",
        "            if person_id is None:\n",
        "                person_id = self.next_id\n",
        "                self.next_id += 1\n",
        "            current_people[person_id] = (cx, cy)\n",
        "\n",
        "            prev_pos = self.tracked_people.get(person_id, (cx, cy))\n",
        "            prev_x = prev_pos[0]\n",
        "            current_count = self.count_in - self.count_out\n",
        "            if prev_x <= self.line_x and cx > self.line_x:\n",
        "                if self.max_capacity is None or current_count < self.max_capacity:\n",
        "                    self.count_in += 1\n",
        "            elif prev_x >= self.line_x and cx < self.line_x:\n",
        "                self.count_out += 1\n",
        "\n",
        "            cv2.circle(frame, (cx, cy), 5, (0, 255, 0), -1)\n",
        "            cv2.putText(frame, f\"ID: {person_id}\", (cx, cy - 10),\n",
        "                       cv2.FONT_HERSHEY_SIMPLEX, 0.5, (0, 255, 0), 2)\n",
        "\n",
        "        self.tracked_people = current_people\n",
        "        cv2.line(frame, (self.line_x, 0), (self.line_x, frame.shape[0]), (255, 0, 0), 2)\n",
        "\n",
        "        current_count = self.count_in - self.count_out\n",
        "        if self.max_capacity:\n",
        "            if current_count >= self.max_capacity:\n",
        "                is_full = True\n",
        "                status = \"Ruangan Penuh\"\n",
        "                cv2.putText(frame, \"Ruangan Penuh!\", (50, 50),\n",
        "                           cv2.FONT_HERSHEY_SIMPLEX, 1, (0, 0, 255), 3)\n",
        "            elif current_count == 0:\n",
        "                status = \"Ruangan Kosong\"\n",
        "            else:\n",
        "                status = f\"Sisa Kapasitas: {self.max_capacity - current_count}\"\n",
        "        else:\n",
        "            if current_count == 0:\n",
        "                status = \"Ruangan Kosong\"\n",
        "            else:\n",
        "                status = f\"Total Orang: {current_count}\"\n",
        "\n",
        "        return frame, self.count_in, self.count_out, status, is_full\n",
        "\n",
        "# Uji model akhir dengan video sample\n",
        "cap = cv2.VideoCapture('sample_video.mp4')\n",
        "counter = PeopleCounter(max_capacity=5)\n",
        "frame_count = 0\n",
        "while cap.isOpened() and frame_count < 100:  # Batasi 100 frame\n",
        "    ret, frame = cap.read()\n",
        "    if not ret:\n",
        "        break\n",
        "    frame, count_in, count_out, status, is_full = counter.process_frame(frame)\n",
        "    cv2.putText(frame, f\"Masuk: {count_in} | Keluar: {count_out} | {status}\",\n",
        "                (10, 30), cv2.FONT_HERSHEY_SIMPLEX, 0.7, (0, 255, 255), 2)\n",
        "    frame_count += 1\n",
        "    # Visualisasi frame ke-50\n",
        "    if frame_count == 50:\n",
        "        plt.imshow(cv2.cvtColor(frame, cv2.COLOR_BGR2RGB))\n",
        "        plt.title(f\"Masuk: {count_in} | Keluar: {count_out} | {status}\")\n",
        "        plt.axis('off')\n",
        "        plt.show()\n",
        "cap.release()\n",
        "print(f\"Hasil Model Akhir: Masuk={counter.count_in}, Keluar={counter.count_out}\")"
      ],
      "metadata": {
        "colab": {
          "base_uri": "https://localhost:8080/"
        },
        "id": "GJtMAh7zu2i9",
        "outputId": "83eca5a0-9523-4c38-9397-23618e5e5ac1"
      },
      "execution_count": null,
      "outputs": [
        {
          "output_type": "stream",
          "name": "stdout",
          "text": [
            "Hasil Model Akhir: Masuk=0, Keluar=0\n"
          ]
        }
      ]
    }
  ]
}